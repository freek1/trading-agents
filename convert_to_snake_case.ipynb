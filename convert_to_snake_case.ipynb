{
 "cells": [
  {
   "cell_type": "code",
   "execution_count": 2,
   "metadata": {},
   "outputs": [
    {
     "name": "stdout",
     "output_type": "stream",
     "text": [
      "converted  agent.py\n",
      "converted  funcs.py\n",
      "converted  simulation.py\n"
     ]
    }
   ],
   "source": [
    "import re\n",
    "\n",
    "files = ['agent.py', 'funcs.py', 'simulation.py']\n",
    "\n",
    "for f in files:\n",
    "    # Read the contents of the file\n",
    "    with open(f, 'r') as file:\n",
    "        content = file.read()\n",
    "\n",
    "    # Apply the regular expression substitution\n",
    "    converted_content = re.sub(r'([a-zA-Z])([A-Z])', r'\\1_\\2', content)\n",
    "    converted_content = converted_content.lower()\n",
    "\n",
    "    # Write the converted content to a new file\n",
    "    with open(f, 'w') as file:\n",
    "        file.write(converted_content)\n",
    "\n",
    "    print('converted ', f)"
   ]
  }
 ],
 "metadata": {
  "kernelspec": {
   "display_name": "Python 3",
   "language": "python",
   "name": "python3"
  },
  "language_info": {
   "codemirror_mode": {
    "name": "ipython",
    "version": 3
   },
   "file_extension": ".py",
   "mimetype": "text/x-python",
   "name": "python",
   "nbconvert_exporter": "python",
   "pygments_lexer": "ipython3",
   "version": "3.10.4"
  },
  "orig_nbformat": 4
 },
 "nbformat": 4,
 "nbformat_minor": 2
}
